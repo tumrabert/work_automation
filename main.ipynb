{
 "cells": [
  {
   "cell_type": "code",
   "execution_count": 87,
   "metadata": {},
   "outputs": [
    {
     "name": "stdout",
     "output_type": "stream",
     "text": [
      "Requirement already satisfied: pyautogui in c:\\users\\tum_t\\miniconda3\\envs\\bot_project\\lib\\site-packages (0.9.54)\n",
      "Requirement already satisfied: pygetwindow in c:\\users\\tum_t\\miniconda3\\envs\\bot_project\\lib\\site-packages (0.0.9)\n",
      "Requirement already satisfied: Pillow in c:\\users\\tum_t\\miniconda3\\envs\\bot_project\\lib\\site-packages (10.3.0)\n",
      "Requirement already satisfied: pyscreeze in c:\\users\\tum_t\\miniconda3\\envs\\bot_project\\lib\\site-packages (0.1.30)\n",
      "Requirement already satisfied: opencv-python in c:\\users\\tum_t\\miniconda3\\envs\\bot_project\\lib\\site-packages (4.9.0.80)\n",
      "Requirement already satisfied: pandas in c:\\users\\tum_t\\miniconda3\\envs\\bot_project\\lib\\site-packages (2.2.2)\n",
      "Requirement already satisfied: pyperclip in c:\\users\\tum_t\\miniconda3\\envs\\bot_project\\lib\\site-packages (1.8.2)\n",
      "Requirement already satisfied: pymsgbox in c:\\users\\tum_t\\miniconda3\\envs\\bot_project\\lib\\site-packages (from pyautogui) (1.0.9)\n",
      "Requirement already satisfied: pytweening>=1.0.4 in c:\\users\\tum_t\\miniconda3\\envs\\bot_project\\lib\\site-packages (from pyautogui) (1.2.0)\n",
      "Requirement already satisfied: mouseinfo in c:\\users\\tum_t\\miniconda3\\envs\\bot_project\\lib\\site-packages (from pyautogui) (0.1.3)\n",
      "Requirement already satisfied: pyrect in c:\\users\\tum_t\\miniconda3\\envs\\bot_project\\lib\\site-packages (from pygetwindow) (0.2.0)\n",
      "Requirement already satisfied: numpy>=1.21.2 in c:\\users\\tum_t\\miniconda3\\envs\\bot_project\\lib\\site-packages (from opencv-python) (1.26.4)\n",
      "Requirement already satisfied: python-dateutil>=2.8.2 in c:\\users\\tum_t\\appdata\\roaming\\python\\python312\\site-packages (from pandas) (2.9.0.post0)\n",
      "Requirement already satisfied: pytz>=2020.1 in c:\\users\\tum_t\\miniconda3\\envs\\bot_project\\lib\\site-packages (from pandas) (2024.1)\n",
      "Requirement already satisfied: tzdata>=2022.7 in c:\\users\\tum_t\\miniconda3\\envs\\bot_project\\lib\\site-packages (from pandas) (2024.1)\n",
      "Requirement already satisfied: six>=1.5 in c:\\users\\tum_t\\appdata\\roaming\\python\\python312\\site-packages (from python-dateutil>=2.8.2->pandas) (1.16.0)\n"
     ]
    }
   ],
   "source": [
    "!pip install pyautogui pygetwindow Pillow pyscreeze opencv-python pandas pyperclip"
   ]
  },
  {
   "cell_type": "code",
   "execution_count": 88,
   "metadata": {},
   "outputs": [],
   "source": [
    "import pyautogui\n",
    "import pygetwindow as gw\n",
    "import time\n",
    "import cv2\n",
    "import pyperclip"
   ]
  },
  {
   "cell_type": "code",
   "execution_count": 74,
   "metadata": {},
   "outputs": [
    {
     "data": {
      "text/plain": [
       "[['birdzaphone364@hotmail.com',\n",
       "  'App112233',\n",
       "  815129488,\n",
       "  'รบกวนโอนยอดเข้ามาด้วยครับ'],\n",
       " ['feristum@gmail.com', 'kJ54)A5e$', 803911438, 'ขอเบอร์โทรศัพท์ด้วยครับ']]"
      ]
     },
     "execution_count": 74,
     "metadata": {},
     "output_type": "execute_result"
    }
   ],
   "source": [
    "import pandas as pd\n",
    "\n",
    "# Read the CSV file into a DataFrame\n",
    "df = pd.read_csv('icloud_template.csv')\n",
    "\n",
    "# Convert the DataFrame to a list of lists excluding the header\n",
    "data = df.values.tolist()\n",
    "\n",
    "data"
   ]
  },
  {
   "cell_type": "code",
   "execution_count": 75,
   "metadata": {},
   "outputs": [],
   "source": [
    "chrome_windows = gw.getWindowsWithTitle('Chrome')"
   ]
  },
  {
   "cell_type": "code",
   "execution_count": 76,
   "metadata": {},
   "outputs": [
    {
     "data": {
      "text/plain": [
       "[Win32Window(hWnd=1836780), Win32Window(hWnd=2231578)]"
      ]
     },
     "execution_count": 76,
     "metadata": {},
     "output_type": "execute_result"
    }
   ],
   "source": [
    "chrome_windows"
   ]
  },
  {
   "cell_type": "code",
   "execution_count": 78,
   "metadata": {},
   "outputs": [],
   "source": [
    "def is_found(path,region=None,confidence=0.8):\n",
    "    try:\n",
    "        icon_location = pyautogui.locateOnScreen(path, grayscale=True, confidence=confidence,region=region)\n",
    "        return True\n",
    "    except pyautogui.ImageNotFoundException:\n",
    "        return False\n",
    "        "
   ]
  },
  {
   "cell_type": "code",
   "execution_count": 80,
   "metadata": {},
   "outputs": [],
   "source": [
    "def click_on_img(path,region=None,confidence=0.8,click=True):\n",
    "    try:\n",
    "        icon_location = pyautogui.locateOnScreen(path, grayscale=True, confidence=confidence,region=region)\n",
    "        icon_center = pyautogui.center(icon_location)\n",
    "        if click:\n",
    "            pyautogui.click(icon_center)\n",
    "        else:\n",
    "            pyautogui.moveTo(icon_center)\n",
    "        return True\n",
    "    except pyautogui.ImageNotFoundException:\n",
    "        return False\n",
    "        "
   ]
  },
  {
   "cell_type": "code",
   "execution_count": 81,
   "metadata": {},
   "outputs": [],
   "source": [
    "def close_x(region=None):\n",
    "    pyautogui.scroll(300)\n",
    "    pyautogui.click()\n",
    "    click_on_img(\"img/x_button.png\",region)"
   ]
  },
  {
   "cell_type": "code",
   "execution_count": 82,
   "metadata": {},
   "outputs": [],
   "source": [
    "def already_lost(region=None):\n",
    "    click_on_img(\"img/x_button.png\",region)\n",
    "    time.sleep(1)\n",
    "    pyautogui.move(0, 250) \n",
    "    time.sleep(1)\n",
    "    pyautogui.scroll(300)\n",
    "    time.sleep(1)\n",
    "    click_on_img(\"img/x_button.png\",region)"
   ]
  },
  {
   "cell_type": "code",
   "execution_count": 43,
   "metadata": {},
   "outputs": [],
   "source": [
    "already_lost()"
   ]
  },
  {
   "cell_type": "code",
   "execution_count": 84,
   "metadata": {},
   "outputs": [],
   "source": [
    "def add_phone(region=None,text='812345678'):\n",
    "  ### for add phone number ####\n",
    "    click_on_img(\"./img/addphone_txt.png\",region)\n",
    "    pyautogui.move(0, 35, duration=1)\n",
    "    # Click at the current mouse position\n",
    "    pyautogui.click()\n",
    "    time.sleep(1)\n",
    "    # Perform Ctrl+A to select all\n",
    "    pyautogui.hotkey('ctrl', 'a')\n",
    "    time.sleep(1)\n",
    "    # Paste the text '0803911438'\n",
    "    print(f\"tel to write {text}\")\n",
    "    pyautogui.write(f\"+66{text}\")\n",
    "    click_on_img(\"./img/next_button.png\",region)\n",
    "    #################"
   ]
  },
  {
   "cell_type": "code",
   "execution_count": 65,
   "metadata": {},
   "outputs": [
    {
     "name": "stdout",
     "output_type": "stream",
     "text": [
      "tel to write 812345678\n"
     ]
    }
   ],
   "source": [
    "add_phone()"
   ]
  },
  {
   "cell_type": "code",
   "execution_count": 89,
   "metadata": {},
   "outputs": [],
   "source": [
    "def add_msg(region=None,text=\"This is default message\"):\n",
    "    ### for add text ####\n",
    "     click_on_img(\"./img/addmsg_txt.png\",region,click=False)\n",
    "     pyautogui.move(0, 50, duration=1)\n",
    "     # Click at the current mouse position\n",
    "     pyautogui.click()\n",
    "     time.sleep(1)\n",
    "     pyautogui.hotkey('ctrl', 'a')\n",
    "     time.sleep(1)\n",
    "     pyautogui.press('space')\n",
    "     time.sleep(1)\n",
    "     print(text)\n",
    "     pyperclip.copy(text)\n",
    "     time.sleep(1)\n",
    "     pyautogui.click()\n",
    "     time.sleep(1)\n",
    "     #pyautogui.write(text)\n",
    "     pyautogui.hotkey('ctrl', 'v')\n",
    "     click_on_img(\"./img/activate_button.png\",region)\n",
    "     #################"
   ]
  },
  {
   "cell_type": "code",
   "execution_count": null,
   "metadata": {},
   "outputs": [],
   "source": [
    "add_msg()"
   ]
  },
  {
   "cell_type": "code",
   "execution_count": 86,
   "metadata": {},
   "outputs": [
    {
     "name": "stdout",
     "output_type": "stream",
     "text": [
      "Window 0: Title: iCloud Find Devices - Google Chrome, Position: (952, 518), Size: (976, 518)\n",
      "Your device found\n",
      "Lock icon not found\n",
      "Window 1: Title: iCloud Find Devices - Google Chrome, Position: (952, 1028), Size: (976, 518)\n",
      "Your device found\n",
      "Already stop lost mode\n",
      "Window 0: Title: iCloud Find Devices - Google Chrome, Position: (952, 518), Size: (976, 518)\n",
      "Your device found\n",
      "Lock icon not found\n",
      "Window 1: Title: iCloud Find Devices - Google Chrome, Position: (952, 1028), Size: (976, 518)\n",
      "Your device found\n",
      "Already stop lost mode\n",
      "Window 0: Title: iCloud Find Devices - Google Chrome, Position: (952, 518), Size: (976, 518)\n",
      "Your device found\n",
      "Lock icon not found\n",
      "Window 1: Title: iCloud Find Devices - Google Chrome, Position: (952, 1028), Size: (976, 518)\n",
      "Your device found\n",
      "tel to write 803911438\n",
      "Text Message is ขอเบอร์โทรศัพท์ด้วยครับ\n",
      "ขอเบอร์โทรศัพท์ด้วยครับ\n",
      "Window 0: Title: iCloud Find Devices - Google Chrome, Position: (952, 518), Size: (976, 518)\n",
      "Your device found\n",
      "Lock icon not found\n",
      "Window 1: Title: iCloud Find Devices - Google Chrome, Position: (952, 1028), Size: (976, 518)\n",
      "Your device found\n",
      "Already stop lost mode\n",
      "Window 0: Title: iCloud Find Devices - Google Chrome, Position: (952, 518), Size: (976, 518)\n",
      "Your device found\n"
     ]
    },
    {
     "ename": "KeyboardInterrupt",
     "evalue": "",
     "output_type": "error",
     "traceback": [
      "\u001b[1;31m---------------------------------------------------------------------------\u001b[0m",
      "\u001b[1;31mKeyboardInterrupt\u001b[0m                         Traceback (most recent call last)",
      "Cell \u001b[1;32mIn[86], line 14\u001b[0m\n\u001b[0;32m     12\u001b[0m         time\u001b[38;5;241m.\u001b[39msleep(\u001b[38;5;241m1\u001b[39m)\n\u001b[0;32m     13\u001b[0m         pyautogui\u001b[38;5;241m.\u001b[39mscroll(\u001b[38;5;241m-\u001b[39m\u001b[38;5;241m100\u001b[39m)       \n\u001b[1;32m---> 14\u001b[0m \u001b[43mtime\u001b[49m\u001b[38;5;241;43m.\u001b[39;49m\u001b[43msleep\u001b[49m\u001b[43m(\u001b[49m\u001b[38;5;241;43m2\u001b[39;49m\u001b[43m)\u001b[49m\n\u001b[0;32m     17\u001b[0m \u001b[38;5;66;03m### Case if couldn't find lock_icon\u001b[39;00m\n\u001b[0;32m     18\u001b[0m \u001b[38;5;28;01mif\u001b[39;00m click_on_img(\u001b[38;5;124m\"\u001b[39m\u001b[38;5;124mimg/lock_icon.png\u001b[39m\u001b[38;5;124m\"\u001b[39m,reg)\u001b[38;5;241m==\u001b[39m\u001b[38;5;28;01mFalse\u001b[39;00m:\n",
      "\u001b[1;31mKeyboardInterrupt\u001b[0m: "
     ]
    }
   ],
   "source": [
    "while True:\n",
    "        for i, window in enumerate(chrome_windows):\n",
    "                print(f\"Window {i}: Title: {window.title}, Position: ({window.left}, {window.bottom}), Size: ({window.width}, {window.height})\")\n",
    "                reg=(window.left, window.top, window.width, window.height)\n",
    "                if click_on_img(\"./img/your_txt.png\",reg,confidence=0.95,click=False)==False:\n",
    "                        print(\"Your device not found\")\n",
    "                        continue\n",
    "                else:\n",
    "                        print(\"Your device found\")\n",
    "                        pyautogui.move(0, 70, duration=1)\n",
    "                        pyautogui.click()\n",
    "                        time.sleep(1)\n",
    "                        pyautogui.scroll(-100)       \n",
    "                time.sleep(2)\n",
    "                \n",
    "                \n",
    "                ### Case if couldn't find lock_icon\n",
    "                if click_on_img(\"img/lock_icon.png\",reg)==False:\n",
    "                        print(\"Lock icon not found\")\n",
    "                        close_x(reg)\n",
    "                        continue\n",
    "                time.sleep(2)\n",
    "                \n",
    "                \n",
    "                \n",
    "                \n",
    "                ### Case if already lock\n",
    "                if is_found(\"img/x_button.png\",reg)==True and is_found(\"./img/next_button.png\",reg)==False:\n",
    "                        print(\"Already stop lost mode\")\n",
    "                        already_lost(reg)\n",
    "                        continue\n",
    "                \n",
    "                \n",
    "                time.sleep(1)\n",
    "                click_on_img(\"./img/next_button.png\",reg)\n",
    "                \n",
    "                ### Add phone number ###\n",
    "                if is_found(\"./img/addphone_txt.png\",reg)==False:\n",
    "                        print(\"phone number not found\")\n",
    "                else:\n",
    "                        phone=data[i][2]\n",
    "                        add_phone(reg,text=phone)\n",
    "                \n",
    "                time.sleep(2)\n",
    "                \n",
    "                ### Add phone number ###\n",
    "                if is_found(\"./img/addmsg_txt.png\",reg)==False:\n",
    "                        print(\"Add msg not found\")\n",
    "                else:\n",
    "                        msg=data[i][3]\n",
    "                        print(f\"Text Message is {msg}\")\n",
    "                        add_msg(reg,text=msg)\n",
    "                \n",
    "                time.sleep(2)\n",
    "                ###finished###\n",
    "                close_x(reg)\n",
    "        \n",
    "        \n",
    "        "
   ]
  },
  {
   "cell_type": "code",
   "execution_count": 36,
   "metadata": {},
   "outputs": [
    {
     "data": {
      "text/plain": [
       "Point(x=1219, y=902)"
      ]
     },
     "execution_count": 36,
     "metadata": {},
     "output_type": "execute_result"
    }
   ],
   "source": [
    "result = pyautogui.position()\n",
    "result"
   ]
  }
 ],
 "metadata": {
  "kernelspec": {
   "display_name": "bot_project",
   "language": "python",
   "name": "python3"
  },
  "language_info": {
   "codemirror_mode": {
    "name": "ipython",
    "version": 3
   },
   "file_extension": ".py",
   "mimetype": "text/x-python",
   "name": "python",
   "nbconvert_exporter": "python",
   "pygments_lexer": "ipython3",
   "version": "3.12.3"
  }
 },
 "nbformat": 4,
 "nbformat_minor": 2
}
