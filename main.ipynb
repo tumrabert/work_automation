{
 "cells": [
  {
   "cell_type": "code",
   "execution_count": null,
   "metadata": {},
   "outputs": [],
   "source": [
    "!pip install pyautogui pygetwindow Pillow pyscreeze opencv-python pandas pyperclip"
   ]
  },
  {
   "cell_type": "code",
   "execution_count": 2,
   "metadata": {},
   "outputs": [],
   "source": [
    "import pyautogui\n",
    "import pygetwindow as gw\n",
    "import time\n",
    "import cv2\n",
    "import pyperclip"
   ]
  },
  {
   "cell_type": "code",
   "execution_count": 3,
   "metadata": {},
   "outputs": [
    {
     "data": {
      "text/plain": [
       "[['birdzaphone364@hotmail.com',\n",
       "  'App112233',\n",
       "  815129488,\n",
       "  'รบกวนโอนยอดเข้ามาด้วยครับ'],\n",
       " ['birdzaphone280@hotmail.com',\n",
       "  'Abb112233',\n",
       "  815129488,\n",
       "  'ยอดโอน500 โอนตอนนี้ก่อนเครื่องล็อค'],\n",
       " ['birdzaphone295@hotmail.com',\n",
       "  'App112233',\n",
       "  815129488,\n",
       "  'อีก1ชั่วโมงไม่โอนล็อคเครื่อง']]"
      ]
     },
     "execution_count": 3,
     "metadata": {},
     "output_type": "execute_result"
    }
   ],
   "source": [
    "import pandas as pd\n",
    "\n",
    "# Read the CSV file into a DataFrame\n",
    "df = pd.read_csv('icloud_template.csv')\n",
    "\n",
    "# Convert the DataFrame to a list of lists excluding the header\n",
    "data = df.values.tolist()\n",
    "\n",
    "data"
   ]
  },
  {
   "cell_type": "code",
   "execution_count": 69,
   "metadata": {},
   "outputs": [],
   "source": [
    "chrome_windows = gw.getWindowsWithTitle('Screen')\n",
    "chrome_windows_sorted = sorted(chrome_windows, key=lambda window: window.title)"
   ]
  },
  {
   "cell_type": "code",
   "execution_count": 70,
   "metadata": {},
   "outputs": [
    {
     "name": "stdout",
     "output_type": "stream",
     "text": [
      "Window 0: Title: Screen1, Position: (6, 543), Size: (990, 536)\n",
      "Window 1: Title: Screen2, Position: (971, 543), Size: (992, 537)\n",
      "Window 2: Title: Screen3, Position: (1, 1072), Size: (993, 540)\n"
     ]
    }
   ],
   "source": [
    "for i, window in enumerate(chrome_windows_sorted):\n",
    "                print(f\"Window {i}: Title: {window.title}, Position: ({window.left}, {window.bottom}), Size: ({window.width}, {window.height})\")"
   ]
  },
  {
   "cell_type": "code",
   "execution_count": 44,
   "metadata": {},
   "outputs": [],
   "source": [
    "from PIL import Image\n",
    "\n",
    "def resize_image(path, region=None):\n",
    "    needle_image = Image.open(path)  # Open the needle image\n",
    "    if region:\n",
    "        region_size = (region[2] - region[0], region[3] - region[1])\n",
    "        needle_image.thumbnail(region_size)  # Resize the needle image if region is specified\n",
    "    return needle_image"
   ]
  },
  {
   "cell_type": "code",
   "execution_count": 54,
   "metadata": {},
   "outputs": [],
   "source": [
    "def is_found(path,region=None,confidence=0.8):\n",
    "    try:\n",
    "        if region==None:\n",
    "            icon_location = pyautogui.locateOnScreen(path, grayscale=True, confidence=confidence)\n",
    "        else:\n",
    "            icon_location = pyautogui.locateOnScreen(path, grayscale=True, confidence=confidence,region=region)\n",
    "        return True\n",
    "    except pyautogui.ImageNotFoundException:\n",
    "        return False\n",
    "        "
   ]
  },
  {
   "cell_type": "code",
   "execution_count": 71,
   "metadata": {},
   "outputs": [
    {
     "data": {
      "text/plain": [
       "False"
      ]
     },
     "execution_count": 71,
     "metadata": {},
     "output_type": "execute_result"
    }
   ],
   "source": [
    "is_found(\"./img/your_txt.png\")"
   ]
  },
  {
   "cell_type": "code",
   "execution_count": 60,
   "metadata": {},
   "outputs": [],
   "source": [
    "def click_on_img(path,region=None,confidence=0.8,click=True):\n",
    "    try:\n",
    "        if region==None:\n",
    "            icon_location = pyautogui.locateOnScreen(path, grayscale=True, confidence=confidence)\n",
    "        else:\n",
    "            icon_location = pyautogui.locateOnScreen(path, grayscale=True, confidence=confidence,region=region)\n",
    "        icon_center = pyautogui.center(icon_location)\n",
    "        if click:\n",
    "            pyautogui.click(icon_center)\n",
    "        else:\n",
    "            pyautogui.moveTo(icon_center)\n",
    "        return True\n",
    "    except pyautogui.ImageNotFoundException:\n",
    "        return False\n",
    "        "
   ]
  },
  {
   "cell_type": "code",
   "execution_count": 65,
   "metadata": {},
   "outputs": [
    {
     "data": {
      "text/plain": [
       "True"
      ]
     },
     "execution_count": 65,
     "metadata": {},
     "output_type": "execute_result"
    }
   ],
   "source": [
    "click_on_img(\"./img/your_txt.png\")"
   ]
  },
  {
   "cell_type": "code",
   "execution_count": 47,
   "metadata": {},
   "outputs": [],
   "source": [
    "def close_x(region=None):\n",
    "    pyautogui.scroll(300)\n",
    "    pyautogui.click()\n",
    "    click_on_img(\"img/x_button.png\",region)"
   ]
  },
  {
   "cell_type": "code",
   "execution_count": 48,
   "metadata": {},
   "outputs": [],
   "source": [
    "def already_lost(region=None):\n",
    "    click_on_img(\"img/x_button.png\",region)\n",
    "    time.sleep(1)\n",
    "    pyautogui.move(0, 250) \n",
    "    time.sleep(1)\n",
    "    pyautogui.scroll(300)\n",
    "    time.sleep(1)\n",
    "    click_on_img(\"img/x_button.png\",region)"
   ]
  },
  {
   "cell_type": "code",
   "execution_count": null,
   "metadata": {},
   "outputs": [],
   "source": [
    "already_lost()"
   ]
  },
  {
   "cell_type": "code",
   "execution_count": 49,
   "metadata": {},
   "outputs": [],
   "source": [
    "def add_phone(region=None,text='812345678'):\n",
    "  ### for add phone number ####\n",
    "    click_on_img(\"./img/addphone_txt.png\",region)\n",
    "    pyautogui.move(0, 35, duration=1)\n",
    "    # Click at the current mouse position\n",
    "    pyautogui.click()\n",
    "    time.sleep(1)\n",
    "    # Perform Ctrl+A to select all\n",
    "    pyautogui.hotkey('ctrl', 'a')\n",
    "    time.sleep(1)\n",
    "    # Paste the text '0803911438'\n",
    "    print(f\"tel to write {text}\")\n",
    "    pyautogui.write(f\"+66{text}\")\n",
    "    click_on_img(\"./img/next_button.png\",region)\n",
    "    #################"
   ]
  },
  {
   "cell_type": "code",
   "execution_count": 65,
   "metadata": {},
   "outputs": [
    {
     "name": "stdout",
     "output_type": "stream",
     "text": [
      "tel to write 812345678\n"
     ]
    }
   ],
   "source": [
    "add_phone()"
   ]
  },
  {
   "cell_type": "code",
   "execution_count": 50,
   "metadata": {},
   "outputs": [],
   "source": [
    "def add_msg(region=None,text=\"This is default message\"):\n",
    "    ### for add text ####\n",
    "     click_on_img(\"./img/addmsg_txt.png\",region,click=False)\n",
    "     pyautogui.move(0, 50, duration=1)\n",
    "     # Click at the current mouse position\n",
    "     pyautogui.click()\n",
    "     time.sleep(1)\n",
    "     pyautogui.hotkey('ctrl', 'a')\n",
    "     time.sleep(1)\n",
    "     pyautogui.press('space')\n",
    "     time.sleep(1)\n",
    "     print(text)\n",
    "     pyperclip.copy(text)\n",
    "     time.sleep(1)\n",
    "     pyautogui.click()\n",
    "     time.sleep(1)\n",
    "     #pyautogui.write(text)\n",
    "     pyautogui.hotkey('ctrl', 'v')\n",
    "     click_on_img(\"./img/activate_button.png\",region)\n",
    "     #################"
   ]
  },
  {
   "cell_type": "code",
   "execution_count": null,
   "metadata": {},
   "outputs": [],
   "source": [
    "add_msg()"
   ]
  },
  {
   "cell_type": "code",
   "execution_count": 66,
   "metadata": {},
   "outputs": [
    {
     "name": "stdout",
     "output_type": "stream",
     "text": [
      "Window 0: Title: Screen1, Position: (-12, 536), Size: (990, 536)\n"
     ]
    },
    {
     "ename": "ValueError",
     "evalue": "needle dimension(s) exceed the haystack image or region dimensions",
     "output_type": "error",
     "traceback": [
      "\u001b[1;31m---------------------------------------------------------------------------\u001b[0m",
      "\u001b[1;31mValueError\u001b[0m                                Traceback (most recent call last)",
      "Cell \u001b[1;32mIn[66], line 5\u001b[0m\n\u001b[0;32m      3\u001b[0m \u001b[38;5;28mprint\u001b[39m(\u001b[38;5;124mf\u001b[39m\u001b[38;5;124m\"\u001b[39m\u001b[38;5;124mWindow \u001b[39m\u001b[38;5;132;01m{\u001b[39;00mi\u001b[38;5;132;01m}\u001b[39;00m\u001b[38;5;124m: Title: \u001b[39m\u001b[38;5;132;01m{\u001b[39;00mwindow\u001b[38;5;241m.\u001b[39mtitle\u001b[38;5;132;01m}\u001b[39;00m\u001b[38;5;124m, Position: (\u001b[39m\u001b[38;5;132;01m{\u001b[39;00mwindow\u001b[38;5;241m.\u001b[39mleft\u001b[38;5;132;01m}\u001b[39;00m\u001b[38;5;124m, \u001b[39m\u001b[38;5;132;01m{\u001b[39;00mwindow\u001b[38;5;241m.\u001b[39mbottom\u001b[38;5;132;01m}\u001b[39;00m\u001b[38;5;124m), Size: (\u001b[39m\u001b[38;5;132;01m{\u001b[39;00mwindow\u001b[38;5;241m.\u001b[39mwidth\u001b[38;5;132;01m}\u001b[39;00m\u001b[38;5;124m, \u001b[39m\u001b[38;5;132;01m{\u001b[39;00mwindow\u001b[38;5;241m.\u001b[39mheight\u001b[38;5;132;01m}\u001b[39;00m\u001b[38;5;124m)\u001b[39m\u001b[38;5;124m\"\u001b[39m)\n\u001b[0;32m      4\u001b[0m reg\u001b[38;5;241m=\u001b[39m(window\u001b[38;5;241m.\u001b[39mleft, window\u001b[38;5;241m.\u001b[39mtop, window\u001b[38;5;241m.\u001b[39mwidth, window\u001b[38;5;241m.\u001b[39mheight)\n\u001b[1;32m----> 5\u001b[0m \u001b[38;5;28;01mif\u001b[39;00m \u001b[43mclick_on_img\u001b[49m\u001b[43m(\u001b[49m\u001b[38;5;124;43m\"\u001b[39;49m\u001b[38;5;124;43m./img/your_txt.png\u001b[39;49m\u001b[38;5;124;43m\"\u001b[39;49m\u001b[43m,\u001b[49m\u001b[43mreg\u001b[49m\u001b[43m,\u001b[49m\u001b[43mconfidence\u001b[49m\u001b[38;5;241;43m=\u001b[39;49m\u001b[38;5;241;43m0.95\u001b[39;49m\u001b[43m,\u001b[49m\u001b[43mclick\u001b[49m\u001b[38;5;241;43m=\u001b[39;49m\u001b[38;5;28;43;01mFalse\u001b[39;49;00m\u001b[43m)\u001b[49m\u001b[38;5;241m==\u001b[39m\u001b[38;5;28;01mFalse\u001b[39;00m:\n\u001b[0;32m      6\u001b[0m         \u001b[38;5;28mprint\u001b[39m(\u001b[38;5;124m\"\u001b[39m\u001b[38;5;124mYour device not found\u001b[39m\u001b[38;5;124m\"\u001b[39m)\n\u001b[0;32m      7\u001b[0m         \u001b[38;5;28;01mcontinue\u001b[39;00m\n",
      "Cell \u001b[1;32mIn[60], line 6\u001b[0m, in \u001b[0;36mclick_on_img\u001b[1;34m(path, region, confidence, click)\u001b[0m\n\u001b[0;32m      4\u001b[0m     icon_location \u001b[38;5;241m=\u001b[39m pyautogui\u001b[38;5;241m.\u001b[39mlocateOnScreen(path, grayscale\u001b[38;5;241m=\u001b[39m\u001b[38;5;28;01mTrue\u001b[39;00m, confidence\u001b[38;5;241m=\u001b[39mconfidence)\n\u001b[0;32m      5\u001b[0m \u001b[38;5;28;01melse\u001b[39;00m:\n\u001b[1;32m----> 6\u001b[0m     icon_location \u001b[38;5;241m=\u001b[39m \u001b[43mpyautogui\u001b[49m\u001b[38;5;241;43m.\u001b[39;49m\u001b[43mlocateOnScreen\u001b[49m\u001b[43m(\u001b[49m\u001b[43mpath\u001b[49m\u001b[43m,\u001b[49m\u001b[43m \u001b[49m\u001b[43mgrayscale\u001b[49m\u001b[38;5;241;43m=\u001b[39;49m\u001b[38;5;28;43;01mTrue\u001b[39;49;00m\u001b[43m,\u001b[49m\u001b[43m \u001b[49m\u001b[43mconfidence\u001b[49m\u001b[38;5;241;43m=\u001b[39;49m\u001b[43mconfidence\u001b[49m\u001b[43m,\u001b[49m\u001b[43mregion\u001b[49m\u001b[38;5;241;43m=\u001b[39;49m\u001b[43mregion\u001b[49m\u001b[43m)\u001b[49m\n\u001b[0;32m      7\u001b[0m icon_center \u001b[38;5;241m=\u001b[39m pyautogui\u001b[38;5;241m.\u001b[39mcenter(icon_location)\n\u001b[0;32m      8\u001b[0m \u001b[38;5;28;01mif\u001b[39;00m click:\n",
      "File \u001b[1;32mc:\\Users\\USER\\miniconda3\\envs\\bot_project\\Lib\\site-packages\\pyautogui\\__init__.py:172\u001b[0m, in \u001b[0;36mraisePyAutoGUIImageNotFoundException.<locals>.wrapper\u001b[1;34m(*args, **kwargs)\u001b[0m\n\u001b[0;32m    169\u001b[0m \u001b[38;5;129m@functools\u001b[39m\u001b[38;5;241m.\u001b[39mwraps(wrappedFunction)\n\u001b[0;32m    170\u001b[0m \u001b[38;5;28;01mdef\u001b[39;00m \u001b[38;5;21mwrapper\u001b[39m(\u001b[38;5;241m*\u001b[39margs, \u001b[38;5;241m*\u001b[39m\u001b[38;5;241m*\u001b[39mkwargs):\n\u001b[0;32m    171\u001b[0m     \u001b[38;5;28;01mtry\u001b[39;00m:\n\u001b[1;32m--> 172\u001b[0m         \u001b[38;5;28;01mreturn\u001b[39;00m \u001b[43mwrappedFunction\u001b[49m\u001b[43m(\u001b[49m\u001b[38;5;241;43m*\u001b[39;49m\u001b[43margs\u001b[49m\u001b[43m,\u001b[49m\u001b[43m \u001b[49m\u001b[38;5;241;43m*\u001b[39;49m\u001b[38;5;241;43m*\u001b[39;49m\u001b[43mkwargs\u001b[49m\u001b[43m)\u001b[49m\n\u001b[0;32m    173\u001b[0m     \u001b[38;5;28;01mexcept\u001b[39;00m pyscreeze\u001b[38;5;241m.\u001b[39mImageNotFoundException:\n\u001b[0;32m    174\u001b[0m         \u001b[38;5;28;01mraise\u001b[39;00m ImageNotFoundException\n",
      "File \u001b[1;32mc:\\Users\\USER\\miniconda3\\envs\\bot_project\\Lib\\site-packages\\pyautogui\\__init__.py:210\u001b[0m, in \u001b[0;36mlocateOnScreen\u001b[1;34m(*args, **kwargs)\u001b[0m\n\u001b[0;32m    208\u001b[0m \u001b[38;5;129m@raisePyAutoGUIImageNotFoundException\u001b[39m\n\u001b[0;32m    209\u001b[0m \u001b[38;5;28;01mdef\u001b[39;00m \u001b[38;5;21mlocateOnScreen\u001b[39m(\u001b[38;5;241m*\u001b[39margs, \u001b[38;5;241m*\u001b[39m\u001b[38;5;241m*\u001b[39mkwargs):\n\u001b[1;32m--> 210\u001b[0m     \u001b[38;5;28;01mreturn\u001b[39;00m \u001b[43mpyscreeze\u001b[49m\u001b[38;5;241;43m.\u001b[39;49m\u001b[43mlocateOnScreen\u001b[49m\u001b[43m(\u001b[49m\u001b[38;5;241;43m*\u001b[39;49m\u001b[43margs\u001b[49m\u001b[43m,\u001b[49m\u001b[43m \u001b[49m\u001b[38;5;241;43m*\u001b[39;49m\u001b[38;5;241;43m*\u001b[39;49m\u001b[43mkwargs\u001b[49m\u001b[43m)\u001b[49m\n",
      "File \u001b[1;32mc:\\Users\\USER\\miniconda3\\envs\\bot_project\\Lib\\site-packages\\pyscreeze\\__init__.py:405\u001b[0m, in \u001b[0;36mlocateOnScreen\u001b[1;34m(image, minSearchTime, **kwargs)\u001b[0m\n\u001b[0;32m    401\u001b[0m \u001b[38;5;28;01mtry\u001b[39;00m:\n\u001b[0;32m    402\u001b[0m     \u001b[38;5;66;03m# the locateAll() function must handle cropping to return accurate coordinates,\u001b[39;00m\n\u001b[0;32m    403\u001b[0m     \u001b[38;5;66;03m# so don't pass a region here.\u001b[39;00m\n\u001b[0;32m    404\u001b[0m     screenshotIm \u001b[38;5;241m=\u001b[39m screenshot(region\u001b[38;5;241m=\u001b[39m\u001b[38;5;28;01mNone\u001b[39;00m)\n\u001b[1;32m--> 405\u001b[0m     retVal \u001b[38;5;241m=\u001b[39m \u001b[43mlocate\u001b[49m\u001b[43m(\u001b[49m\u001b[43mimage\u001b[49m\u001b[43m,\u001b[49m\u001b[43m \u001b[49m\u001b[43mscreenshotIm\u001b[49m\u001b[43m,\u001b[49m\u001b[43m \u001b[49m\u001b[38;5;241;43m*\u001b[39;49m\u001b[38;5;241;43m*\u001b[39;49m\u001b[43mkwargs\u001b[49m\u001b[43m)\u001b[49m\n\u001b[0;32m    406\u001b[0m     \u001b[38;5;28;01mtry\u001b[39;00m:\n\u001b[0;32m    407\u001b[0m         screenshotIm\u001b[38;5;241m.\u001b[39mfp\u001b[38;5;241m.\u001b[39mclose()\n",
      "File \u001b[1;32mc:\\Users\\USER\\miniconda3\\envs\\bot_project\\Lib\\site-packages\\pyscreeze\\__init__.py:383\u001b[0m, in \u001b[0;36mlocate\u001b[1;34m(needleImage, haystackImage, **kwargs)\u001b[0m\n\u001b[0;32m    380\u001b[0m \u001b[38;5;66;03m# Note: The gymnastics in this function is because we want to make sure to exhaust the iterator so that\u001b[39;00m\n\u001b[0;32m    381\u001b[0m \u001b[38;5;66;03m# the needle and haystack files are closed in locateAll.\u001b[39;00m\n\u001b[0;32m    382\u001b[0m kwargs[\u001b[38;5;124m'\u001b[39m\u001b[38;5;124mlimit\u001b[39m\u001b[38;5;124m'\u001b[39m] \u001b[38;5;241m=\u001b[39m \u001b[38;5;241m1\u001b[39m\n\u001b[1;32m--> 383\u001b[0m points \u001b[38;5;241m=\u001b[39m \u001b[38;5;28;43mtuple\u001b[39;49m\u001b[43m(\u001b[49m\u001b[43mlocateAll\u001b[49m\u001b[43m(\u001b[49m\u001b[43mneedleImage\u001b[49m\u001b[43m,\u001b[49m\u001b[43m \u001b[49m\u001b[43mhaystackImage\u001b[49m\u001b[43m,\u001b[49m\u001b[43m \u001b[49m\u001b[38;5;241;43m*\u001b[39;49m\u001b[38;5;241;43m*\u001b[39;49m\u001b[43mkwargs\u001b[49m\u001b[43m)\u001b[49m\u001b[43m)\u001b[49m\n\u001b[0;32m    384\u001b[0m \u001b[38;5;28;01mif\u001b[39;00m \u001b[38;5;28mlen\u001b[39m(points) \u001b[38;5;241m>\u001b[39m \u001b[38;5;241m0\u001b[39m:\n\u001b[0;32m    385\u001b[0m     \u001b[38;5;28;01mreturn\u001b[39;00m points[\u001b[38;5;241m0\u001b[39m]\n",
      "File \u001b[1;32mc:\\Users\\USER\\miniconda3\\envs\\bot_project\\Lib\\site-packages\\pyscreeze\\__init__.py:241\u001b[0m, in \u001b[0;36m_locateAll_opencv\u001b[1;34m(needleImage, haystackImage, grayscale, limit, region, step, confidence)\u001b[0m\n\u001b[0;32m    238\u001b[0m     region \u001b[38;5;241m=\u001b[39m (\u001b[38;5;241m0\u001b[39m, \u001b[38;5;241m0\u001b[39m)  \u001b[38;5;66;03m# full image; these values used in the yield statement\u001b[39;00m\n\u001b[0;32m    239\u001b[0m \u001b[38;5;28;01mif\u001b[39;00m haystackImage\u001b[38;5;241m.\u001b[39mshape[\u001b[38;5;241m0\u001b[39m] \u001b[38;5;241m<\u001b[39m needleImage\u001b[38;5;241m.\u001b[39mshape[\u001b[38;5;241m0\u001b[39m] \u001b[38;5;129;01mor\u001b[39;00m haystackImage\u001b[38;5;241m.\u001b[39mshape[\u001b[38;5;241m1\u001b[39m] \u001b[38;5;241m<\u001b[39m needleImage\u001b[38;5;241m.\u001b[39mshape[\u001b[38;5;241m1\u001b[39m]:\n\u001b[0;32m    240\u001b[0m     \u001b[38;5;66;03m# avoid semi-cryptic OpenCV error below if bad size\u001b[39;00m\n\u001b[1;32m--> 241\u001b[0m     \u001b[38;5;28;01mraise\u001b[39;00m \u001b[38;5;167;01mValueError\u001b[39;00m(\u001b[38;5;124m'\u001b[39m\u001b[38;5;124mneedle dimension(s) exceed the haystack image or region dimensions\u001b[39m\u001b[38;5;124m'\u001b[39m)\n\u001b[0;32m    243\u001b[0m \u001b[38;5;28;01mif\u001b[39;00m step \u001b[38;5;241m==\u001b[39m \u001b[38;5;241m2\u001b[39m:\n\u001b[0;32m    244\u001b[0m     confidence \u001b[38;5;241m*\u001b[39m\u001b[38;5;241m=\u001b[39m \u001b[38;5;241m0.95\u001b[39m\n",
      "\u001b[1;31mValueError\u001b[0m: needle dimension(s) exceed the haystack image or region dimensions"
     ]
    }
   ],
   "source": [
    "while True:\n",
    "        for i, window in enumerate(chrome_windows_sorted):\n",
    "                print(f\"Window {i}: Title: {window.title}, Position: ({window.left}, {window.bottom}), Size: ({window.width}, {window.height})\")\n",
    "                reg=(window.left, window.top, window.width, window.height)\n",
    "                if click_on_img(\"./img/your_txt.png\",reg,confidence=0.95,click=False)==False:\n",
    "                        print(\"Your device not found\")\n",
    "                        continue\n",
    "                else:\n",
    "                        print(\"Your device found\")\n",
    "                        pyautogui.move(0, 70, duration=1)\n",
    "                        pyautogui.click()\n",
    "                        time.sleep(1)\n",
    "                        pyautogui.scroll(-100)       \n",
    "                time.sleep(2)\n",
    "                \n",
    "                \n",
    "                ### Case if couldn't find lock_icon\n",
    "                if click_on_img(\"img/lock_icon.png\",reg)==False:\n",
    "                        print(\"Lock icon not found\")\n",
    "                        close_x(reg)\n",
    "                        continue\n",
    "                time.sleep(2)\n",
    "                \n",
    "                \n",
    "                \n",
    "                \n",
    "                ### Case if already lock\n",
    "                if is_found(\"img/x_button.png\",reg)==True and is_found(\"./img/next_button.png\",reg)==False:\n",
    "                        print(\"Already stop lost mode\")\n",
    "                        already_lost(reg)\n",
    "                        continue\n",
    "                \n",
    "                \n",
    "                time.sleep(1)\n",
    "                click_on_img(\"./img/next_button.png\",reg)\n",
    "                \n",
    "                ### Add phone number ###\n",
    "                if is_found(\"./img/addphone_txt.png\",reg)==False:\n",
    "                        print(\"phone number not found\")\n",
    "                else:\n",
    "                        phone=data[i][2]\n",
    "                        add_phone(reg,text=phone)\n",
    "                \n",
    "                time.sleep(2)\n",
    "                \n",
    "                ### Add phone number ###\n",
    "                if is_found(\"./img/addmsg_txt.png\",reg)==False:\n",
    "                        print(\"Add msg not found\")\n",
    "                else:\n",
    "                        msg=data[i][3]\n",
    "                        print(f\"Text Message is {msg}\")\n",
    "                        add_msg(reg,text=msg)\n",
    "                \n",
    "                time.sleep(2)\n",
    "                ###finished###\n",
    "                close_x(reg)\n",
    "        \n",
    "        \n",
    "        "
   ]
  },
  {
   "cell_type": "code",
   "execution_count": 52,
   "metadata": {},
   "outputs": [
    {
     "data": {
      "text/plain": [
       "Point(x=2, y=1)"
      ]
     },
     "execution_count": 52,
     "metadata": {},
     "output_type": "execute_result"
    }
   ],
   "source": [
    "result = pyautogui.position()\n",
    "result"
   ]
  }
 ],
 "metadata": {
  "kernelspec": {
   "display_name": "bot_project",
   "language": "python",
   "name": "python3"
  },
  "language_info": {
   "codemirror_mode": {
    "name": "ipython",
    "version": 3
   },
   "file_extension": ".py",
   "mimetype": "text/x-python",
   "name": "python",
   "nbconvert_exporter": "python",
   "pygments_lexer": "ipython3",
   "version": "3.12.3"
  }
 },
 "nbformat": 4,
 "nbformat_minor": 2
}
